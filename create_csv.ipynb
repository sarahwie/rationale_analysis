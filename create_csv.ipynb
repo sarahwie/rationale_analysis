{
 "cells": [
  {
   "cell_type": "code",
   "execution_count": 1,
   "metadata": {},
   "outputs": [
    {
     "name": "stdout",
     "output_type": "stream",
     "text": [
      "./outputs/bert_classification/SST/bert_base_uncased/wrapper_saliency/top_k_rationale/MAX_LENGTH_PERCENT=40/dev.csv\n"
     ]
    }
   ],
   "source": [
    "import json\n",
    "import csv\n",
    "import os\n",
    "\n",
    "infile = './outputs/bert_classification/SST/bert_base_uncased/wrapper_saliency/top_k_rationale/MAX_LENGTH_PERCENT=40/dev.jsonl'\n",
    "outfile = os.path.join(os.path.split(infile)[0], os.path.splitext(os.path.basename(infile))[0] + '.csv')\n",
    "print(outfile)"
   ]
  },
  {
   "cell_type": "code",
   "execution_count": 2,
   "metadata": {},
   "outputs": [],
   "source": [
    "tweets = []\n",
    "for line in open(infile, 'r'):\n",
    "    tweets.append(json.loads(line))"
   ]
  },
  {
   "cell_type": "code",
   "execution_count": 40,
   "metadata": {},
   "outputs": [],
   "source": [
    "with open(outfile, 'w') as g:\n",
    "    writer = csv.DictWriter(g, fieldnames=['item', 'text', 'pred_label', 'label'])\n",
    "    writer.writeheader()\n",
    "    for i, item in enumerate(tweets):\n",
    "        # convert to dictionary & write to csv file\n",
    "        writer.writerow({'text':item['rationale']['document'], 'item':i, 'pred_label':item['metadata']['predicted_label'], 'label':item['metadata']['label']})"
   ]
  },
  {
   "cell_type": "code",
   "execution_count": 15,
   "metadata": {},
   "outputs": [
    {
     "data": {
      "text/plain": [
       "872"
      ]
     },
     "execution_count": 15,
     "metadata": {},
     "output_type": "execute_result"
    }
   ],
   "source": [
    "len(tweets)"
   ]
  },
  {
   "cell_type": "code",
   "execution_count": 21,
   "metadata": {},
   "outputs": [],
   "source": [
    "outfile = './test_csv.csv'\n",
    "with open(outfile, 'w') as g:\n",
    "    writer = csv.DictWriter(g, fieldnames=['item', 'text', 'pred_label', 'label'])\n",
    "    writer.writeheader()\n",
    "    for i, item in enumerate(tweets):\n",
    "        if i < 100:\n",
    "            # convert to dictionary & write to csv file\n",
    "            writer.writerow({'text':\"testing \\n newlines \\n yeah \\n man\", 'item':i, 'pred_label':item['metadata']['predicted_label'], 'label':item['metadata']['label']})"
   ]
  },
  {
   "cell_type": "code",
   "execution_count": null,
   "metadata": {},
   "outputs": [],
   "source": []
  },
  {
   "cell_type": "code",
   "execution_count": null,
   "metadata": {},
   "outputs": [],
   "source": []
  },
  {
   "cell_type": "markdown",
   "metadata": {},
   "source": [
    "### Random exploratory stuff"
   ]
  },
  {
   "cell_type": "code",
   "execution_count": 23,
   "metadata": {},
   "outputs": [
    {
     "data": {
      "text/plain": [
       "872"
      ]
     },
     "execution_count": 23,
     "metadata": {},
     "output_type": "execute_result"
    }
   ],
   "source": [
    "len(tweets)"
   ]
  },
  {
   "cell_type": "code",
   "execution_count": 24,
   "metadata": {},
   "outputs": [
    {
     "data": {
      "text/plain": [
       "dict_keys(['rationale', 'document', 'label', 'metadata'])"
      ]
     },
     "execution_count": 24,
     "metadata": {},
     "output_type": "execute_result"
    }
   ],
   "source": [
    "tweets[0].keys()"
   ]
  },
  {
   "cell_type": "code",
   "execution_count": 4,
   "metadata": {},
   "outputs": [
    {
     "data": {
      "text/plain": [
       "{'rationale': {'document': 'a lovely film with accorsi',\n",
       "  'spans': [{'span': [5, 6], 'value': 0.097680002450943},\n",
       "   {'span': [4, 5], 'value': 0.10313999652862549},\n",
       "   {'span': [2, 3], 'value': 0.11106999963521957},\n",
       "   {'span': [11, 12], 'value': 0.120169997215271},\n",
       "   {'span': [3, 4], 'value': 0.22922000288963318}],\n",
       "  'metadata': 'None'},\n",
       " 'document': 'a lovely film with accorsi',\n",
       " 'label': '1',\n",
       " 'metadata': {'tokens': ['it',\n",
       "   's',\n",
       "   'a',\n",
       "   'lovely',\n",
       "   'film',\n",
       "   'with',\n",
       "   'lovely',\n",
       "   'performances',\n",
       "   'by',\n",
       "   'buy',\n",
       "   'and',\n",
       "   'accorsi'],\n",
       "  'document': 'it s a lovely film with lovely performances by buy and accorsi',\n",
       "  'query': 'None',\n",
       "  'predicted_label': '1',\n",
       "  'label': '1'}}"
      ]
     },
     "execution_count": 4,
     "metadata": {},
     "output_type": "execute_result"
    }
   ],
   "source": [
    "tweets[0]"
   ]
  },
  {
   "cell_type": "code",
   "execution_count": 32,
   "metadata": {},
   "outputs": [
    {
     "data": {
      "text/plain": [
       "'a lovely accorsi'"
      ]
     },
     "execution_count": 32,
     "metadata": {},
     "output_type": "execute_result"
    }
   ],
   "source": [
    "tweets[0]['rationale']['document']"
   ]
  },
  {
   "cell_type": "code",
   "execution_count": 11,
   "metadata": {},
   "outputs": [
    {
     "data": {
      "text/plain": [
       "'a lovely accorsi'"
      ]
     },
     "execution_count": 11,
     "metadata": {},
     "output_type": "execute_result"
    }
   ],
   "source": [
    "tweets[0]['document']"
   ]
  },
  {
   "cell_type": "code",
   "execution_count": 12,
   "metadata": {},
   "outputs": [
    {
     "data": {
      "text/plain": [
       "'1'"
      ]
     },
     "execution_count": 12,
     "metadata": {},
     "output_type": "execute_result"
    }
   ],
   "source": [
    "tweets[0]['label']"
   ]
  },
  {
   "cell_type": "code",
   "execution_count": 14,
   "metadata": {},
   "outputs": [
    {
     "data": {
      "text/plain": [
       "'1'"
      ]
     },
     "execution_count": 14,
     "metadata": {},
     "output_type": "execute_result"
    }
   ],
   "source": [
    "tweets[0]['metadata']['predicted_label']"
   ]
  },
  {
   "cell_type": "code",
   "execution_count": 5,
   "metadata": {},
   "outputs": [
    {
     "data": {
      "text/plain": [
       "'it s a lovely film with lovely performances by buy and accorsi'"
      ]
     },
     "execution_count": 5,
     "metadata": {},
     "output_type": "execute_result"
    }
   ],
   "source": [
    "tweets[0]['metadata']['document']"
   ]
  },
  {
   "cell_type": "code",
   "execution_count": 8,
   "metadata": {},
   "outputs": [
    {
     "data": {
      "text/plain": [
       "{'document': 'a lovely film with accorsi',\n",
       " 'spans': [{'span': [5, 6], 'value': 0.097680002450943},\n",
       "  {'span': [4, 5], 'value': 0.10313999652862549},\n",
       "  {'span': [2, 3], 'value': 0.11106999963521957},\n",
       "  {'span': [11, 12], 'value': 0.120169997215271},\n",
       "  {'span': [3, 4], 'value': 0.22922000288963318}],\n",
       " 'metadata': 'None'}"
      ]
     },
     "execution_count": 8,
     "metadata": {},
     "output_type": "execute_result"
    }
   ],
   "source": [
    "tweets[0]['rationale']"
   ]
  },
  {
   "cell_type": "code",
   "execution_count": 11,
   "metadata": {},
   "outputs": [
    {
     "name": "stdout",
     "output_type": "stream",
     "text": [
      "[5, 6]\n",
      "[4, 5]\n",
      "[2, 3]\n",
      "[11, 12]\n",
      "[3, 4]\n"
     ]
    }
   ],
   "source": [
    "for el in tweets[0]['rationale']['spans']:\n",
    "    print(el['span'])"
   ]
  },
  {
   "cell_type": "code",
   "execution_count": 10,
   "metadata": {},
   "outputs": [
    {
     "data": {
      "text/plain": [
       "'it s a lovely film with lovely performances by buy and accorsi'"
      ]
     },
     "execution_count": 10,
     "metadata": {},
     "output_type": "execute_result"
    }
   ],
   "source": [
    "tweets[0]['metadata']['document']"
   ]
  },
  {
   "cell_type": "code",
   "execution_count": null,
   "metadata": {},
   "outputs": [],
   "source": []
  },
  {
   "cell_type": "code",
   "execution_count": null,
   "metadata": {},
   "outputs": [],
   "source": []
  }
 ],
 "metadata": {
  "kernelspec": {
   "display_name": "Python 3",
   "language": "python",
   "name": "python3"
  },
  "language_info": {
   "codemirror_mode": {
    "name": "ipython",
    "version": 3
   },
   "file_extension": ".py",
   "mimetype": "text/x-python",
   "name": "python",
   "nbconvert_exporter": "python",
   "pygments_lexer": "ipython3",
   "version": "3.6.0"
  }
 },
 "nbformat": 4,
 "nbformat_minor": 2
}
