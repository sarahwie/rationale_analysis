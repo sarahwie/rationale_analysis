{
 "cells": [
  {
   "cell_type": "code",
   "execution_count": 1,
   "metadata": {},
   "outputs": [
    {
     "name": "stdout",
     "output_type": "stream",
     "text": [
      "rm: cannot remove 'ag_news_csv.tgz': No such file or directory\n",
      "--2020-01-13 17:10:07--  https://s3.amazonaws.com/fast-ai-nlp/ag_news_csv.tgz\n",
      "Loaded CA certificate '/etc/ssl/certs/ca-certificates.crt'\n",
      "Resolving s3.amazonaws.com (s3.amazonaws.com)... 52.216.139.197\n",
      "Connecting to s3.amazonaws.com (s3.amazonaws.com)|52.216.139.197|:443... connected.\n",
      "HTTP request sent, awaiting response... 200 OK\n",
      "Length: 11784419 (11M) [application/x-tar]\n",
      "Saving to: ‘ag_news_csv.tgz’\n",
      "\n",
      "ag_news_csv.tgz     100%[===================>]  11.24M  28.6MB/s    in 0.4s    \n",
      "\n",
      "2020-01-13 17:10:07 (28.6 MB/s) - ‘ag_news_csv.tgz’ saved [11784419/11784419]\n",
      "\n",
      "ag_news_csv/\n",
      "ag_news_csv/train.csv\n",
      "ag_news_csv/readme.txt\n",
      "ag_news_csv/test.csv\n",
      "ag_news_csv/classes.txt\n"
     ]
    }
   ],
   "source": [
    "!rm ag_news_csv.tgz\n",
    "!wget https://s3.amazonaws.com/fast-ai-nlp/ag_news_csv.tgz\n",
    "!tar -xvzf ag_news_csv.tgz"
   ]
  },
  {
   "cell_type": "code",
   "execution_count": 7,
   "metadata": {},
   "outputs": [],
   "source": [
    "import pandas as pd\n",
    "from tqdm import tqdm_notebook\n",
    "\n",
    "df = {}\n",
    "keys = ['train', 'test']\n",
    "for k in keys :\n",
    "    df[k] = pd.read_csv('ag_news_csv/' + k + '.csv', header=None)\n",
    "\n",
    "classes = open('ag_news_csv/classes.txt').read().strip().split('\\n')\n",
    "for k in keys :\n",
    "    df[k][0] = df[k][0].apply(lambda x : classes[x-1])\n",
    "\n",
    "import pandas as pd\n",
    "df_texts = []\n",
    "df_labels = []\n",
    "df_exp_splits = []\n",
    "\n",
    "for key in ['train', 'test'] :\n",
    "    df_texts += list(df[key][2])\n",
    "    df_labels += list(df[key][0])\n",
    "    df_exp_splits += [key] * len(list(df[key][2]))\n",
    "    \n",
    "df = pd.DataFrame({'text' : df_texts, 'label' : df_labels, 'exp_split' : df_exp_splits})\n",
    "\n",
    "from sklearn.model_selection import train_test_split\n",
    "train_idx, dev_idx = train_test_split(df.index[df.exp_split == 'train'], test_size=0.15, random_state=16377)\n",
    "df.loc[dev_idx, 'exp_split'] = 'dev'\n",
    "df.to_csv('agnews_dataset_split_full.csv', index=False)"
   ]
  },
  {
   "cell_type": "code",
   "execution_count": 8,
   "metadata": {},
   "outputs": [],
   "source": [
    "import pandas as pd\n",
    "import json\n",
    "\n",
    "import os\n",
    "os.makedirs('data', exist_ok=True)"
   ]
  },
  {
   "cell_type": "code",
   "execution_count": 9,
   "metadata": {},
   "outputs": [],
   "source": [
    "data = pd.read_csv('agnews_dataset_split_full.csv')"
   ]
  },
  {
   "cell_type": "code",
   "execution_count": 10,
   "metadata": {},
   "outputs": [],
   "source": [
    "import spacy\n",
    "nlp = spacy.load('en')\n",
    "\n",
    "def clean_text(text) :\n",
    "    return \"\\n\".join([\" \".join([t.text.strip() for t in sent]) for sent in nlp(text).sents])"
   ]
  },
  {
   "cell_type": "code",
   "execution_count": 11,
   "metadata": {},
   "outputs": [
    {
     "name": "stderr",
     "output_type": "stream",
     "text": [
      "100%|██████████| 102000/102000 [16:35<00:00, 102.47it/s]\n",
      "100%|██████████| 18000/18000 [02:55<00:00, 102.49it/s]\n",
      "100%|██████████| 7600/7600 [01:14<00:00, 102.43it/s]\n"
     ]
    }
   ],
   "source": [
    "from tqdm import tqdm\n",
    "\n",
    "for key in ['train', 'dev', 'test'] :\n",
    "    data_key = data[data.exp_split == key].to_dict(orient='records')\n",
    "    data_key = [{'document' : clean_text(x['text']), 'label' : x['label']} for x in tqdm(data_key)]\n",
    "    f = open('data/' + key + '.jsonl', 'w')\n",
    "    f.write('\\n'.join([json.dumps(line) for line in data_key]))\n",
    "    f.close()"
   ]
  },
  {
   "cell_type": "code",
   "execution_count": 1,
   "metadata": {},
   "outputs": [],
   "source": [
    "import json\n",
    "for key in ['train', 'dev', 'test'] :\n",
    "    data_key = [json.loads(line) for line in open('data/' + key + '.jsonl')]\n",
    "    for i, d in enumerate(data_key) :\n",
    "        d['annotation_id'] = key + '_' + str(i)\n",
    "    f = open('data/' + key + '.jsonl', 'w')\n",
    "    f.write('\\n'.join([json.dumps(line) for line in data_key]))\n",
    "    f.close()"
   ]
  },
  {
   "cell_type": "code",
   "execution_count": null,
   "metadata": {},
   "outputs": [],
   "source": []
  }
 ],
 "metadata": {
  "kernelspec": {
   "display_name": "Python 3",
   "language": "python",
   "name": "python3"
  },
  "language_info": {
   "codemirror_mode": {
    "name": "ipython",
    "version": 3
   },
   "file_extension": ".py",
   "mimetype": "text/x-python",
   "name": "python",
   "nbconvert_exporter": "python",
   "pygments_lexer": "ipython3",
   "version": "3.7.4"
  }
 },
 "nbformat": 4,
 "nbformat_minor": 4
}
