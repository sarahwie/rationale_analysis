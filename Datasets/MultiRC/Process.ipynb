{
 "cells": [
  {
   "cell_type": "code",
   "execution_count": 34,
   "metadata": {
    "scrolled": true
   },
   "outputs": [],
   "source": [
    "!wget http://www.eraserbenchmark.com/zipped/multirc.tar.gz\n",
    "!tar -xvzf multirc.tar.gz\n",
    "!mv multirc/val.jsonl multirc/dev.jsonl"
   ]
  },
  {
   "cell_type": "code",
   "execution_count": 37,
   "metadata": {},
   "outputs": [],
   "source": [
    "import json\n",
    "from rationale_benchmark.utils import load_flattened_documents\n",
    "documents = load_flattened_documents('multirc', docids=None)\n",
    "def read_annotations(json_file) :\n",
    "    anns = [json.loads(line) for line in open(json_file)]\n",
    "    for a in anns :\n",
    "        doc_id = a['annotation_id'].split(':')\n",
    "        assert len(doc_id) == 3\n",
    "        doc_id = doc_id[0]\n",
    "        a['document'] = \" \".join(documents[doc_id])\n",
    "        a['label'] = a['classification']\n",
    "        del a['classification']\n",
    "        del a['docids']\n",
    "        a['rationale'] = []\n",
    "        for evgroup in a['evidences'] :\n",
    "            for ev in evgroup :\n",
    "                assert ev['docid'] == doc_id\n",
    "                a['rationale'].append((ev['start_token'], ev['end_token']))\n",
    "        del a['evidences']\n",
    "        del a['query_type']\n",
    "        \n",
    "    return anns"
   ]
  },
  {
   "cell_type": "code",
   "execution_count": 38,
   "metadata": {},
   "outputs": [],
   "source": [
    "import os\n",
    "os.makedirs('data/', exist_ok=True)"
   ]
  },
  {
   "cell_type": "code",
   "execution_count": 39,
   "metadata": {},
   "outputs": [],
   "source": [
    "for key in ['train', 'dev', 'test'] :\n",
    "    ann = read_annotations('multirc/' + key + '.jsonl')\n",
    "    with open('data/' + key + '.jsonl', 'w') as f :\n",
    "        f.write('\\n'.join([json.dumps(line) for line in ann]))"
   ]
  },
  {
   "cell_type": "code",
   "execution_count": null,
   "metadata": {},
   "outputs": [],
   "source": []
  }
 ],
 "metadata": {
  "kernelspec": {
   "display_name": "Python 3",
   "language": "python",
   "name": "python3"
  },
  "language_info": {
   "codemirror_mode": {
    "name": "ipython",
    "version": 3
   },
   "file_extension": ".py",
   "mimetype": "text/x-python",
   "name": "python",
   "nbconvert_exporter": "python",
   "pygments_lexer": "ipython3",
   "version": "3.7.4"
  }
 },
 "nbformat": 4,
 "nbformat_minor": 4
}
