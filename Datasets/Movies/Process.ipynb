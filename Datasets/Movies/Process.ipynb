{
 "cells": [
  {
   "cell_type": "code",
   "execution_count": 1,
   "metadata": {},
   "outputs": [],
   "source": [
    "import json"
   ]
  },
  {
   "cell_type": "code",
   "execution_count": 6,
   "metadata": {},
   "outputs": [],
   "source": [
    "keys = ['train', 'dev', 'test']\n",
    "processed_data = {k:[] for k in keys}\n",
    "lengths ={k:[] for k in keys}\n",
    "for k in keys :\n",
    "    data = [json.loads(line) for line in open('complete-movies-data/' + k + '.jsonl')]\n",
    "    for d in data :\n",
    "        doc_id = d['annotation_id']\n",
    "        text = open('complete-movies-data/docs/' + doc_id).read()\n",
    "        lengths[k].append(sum([(e['end_token'] - e['start_token']) for eg in d['evidences'] for e in eg]) / len(text.split()))\n",
    "        label = d['classification']\n",
    "        processed_data[k].append({'document' : text, 'label' : d['classification'], 'annotation_id' : d['annotation_id']})"
   ]
  },
  {
   "cell_type": "code",
   "execution_count": 8,
   "metadata": {},
   "outputs": [],
   "source": [
    "for k in keys :\n",
    "    f = open('data/' + k + '.jsonl', 'w')\n",
    "    f.write('\\n'.join([json.dumps(line) for line in processed_data[k]]))\n",
    "    f.close()"
   ]
  },
  {
   "cell_type": "code",
   "execution_count": 37,
   "metadata": {},
   "outputs": [],
   "source": [
    "from sklearn.feature_extraction.text import TfidfVectorizer"
   ]
  },
  {
   "cell_type": "code",
   "execution_count": 38,
   "metadata": {},
   "outputs": [],
   "source": [
    "tfidf = TfidfVectorizer()\n",
    "X_train = tfidf.fit_transform([d['document'] for d in processed_data['train']])\n",
    "X_dev = tfidf.transform([d['document'] for d in processed_data['dev']])\n",
    "\n",
    "y_train = [int(d['label'] == 'POS') for d in processed_data['train']]\n",
    "y_dev = [int(d['label'] == 'POS') for d in processed_data['dev']]"
   ]
  },
  {
   "cell_type": "code",
   "execution_count": 39,
   "metadata": {},
   "outputs": [
    {
     "name": "stderr",
     "output_type": "stream",
     "text": [
      "/home/jainsarthak/anaconda3/lib/python3.7/site-packages/sklearn/linear_model/logistic.py:432: FutureWarning: Default solver will be changed to 'lbfgs' in 0.22. Specify a solver to silence this warning.\n",
      "  FutureWarning)\n"
     ]
    },
    {
     "data": {
      "text/plain": [
       "0.8"
      ]
     },
     "execution_count": 39,
     "metadata": {},
     "output_type": "execute_result"
    }
   ],
   "source": [
    "from sklearn.linear_model import LogisticRegression\n",
    "lr = LogisticRegression(penalty='l2')\n",
    "lr.fit(X_train, y_train)\n",
    "lr.score(X_dev, y_dev)"
   ]
  },
  {
   "cell_type": "code",
   "execution_count": null,
   "metadata": {},
   "outputs": [],
   "source": []
  }
 ],
 "metadata": {
  "kernelspec": {
   "display_name": "Python 3",
   "language": "python",
   "name": "python3"
  },
  "language_info": {
   "codemirror_mode": {
    "name": "ipython",
    "version": 3
   },
   "file_extension": ".py",
   "mimetype": "text/x-python",
   "name": "python",
   "nbconvert_exporter": "python",
   "pygments_lexer": "ipython3",
   "version": "3.7.4"
  }
 },
 "nbformat": 4,
 "nbformat_minor": 4
}
