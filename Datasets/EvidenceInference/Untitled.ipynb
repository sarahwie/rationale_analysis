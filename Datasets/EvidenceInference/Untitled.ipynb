{
 "cells": [
  {
   "cell_type": "code",
   "execution_count": null,
   "metadata": {},
   "outputs": [],
   "source": [
    "!git clone https://github.com/jayded/evidence-inference.git"
   ]
  },
  {
   "cell_type": "code",
   "execution_count": null,
   "metadata": {},
   "outputs": [],
   "source": [
    "import pandas as pd"
   ]
  },
  {
   "cell_type": "code",
   "execution_count": null,
   "metadata": {},
   "outputs": [],
   "source": [
    "df = pd.read_csv('evidence-inference/annotations/annotations_merged.csv')\n",
    "df = df[df['In Abstract'] == True]"
   ]
  },
  {
   "cell_type": "code",
   "execution_count": 17,
   "metadata": {},
   "outputs": [],
   "source": [
    "def combine(starts, ends) :\n",
    "    new_starts = []\n",
    "    new_ends = []\n",
    "    \n",
    "    i = 1\n",
    "    new_starts.append(starts[0])\n",
    "    while i < len(starts) :\n",
    "        print(new_starts, new_ends)\n",
    "        c_start = new_starts[-1]\n",
    "        if starts[i] >= ends[i-1] :\n",
    "            new_ends.append(ends[i-1])\n",
    "            new_starts.append(starts[i])\n",
    "        i+=1\n",
    "        continue\n",
    "        \n",
    "    new_ends.append(ends[i-1])\n",
    "        \n",
    "    return new_starts, new_ends"
   ]
  },
  {
   "cell_type": "code",
   "execution_count": 64,
   "metadata": {},
   "outputs": [],
   "source": [
    "import numpy as np"
   ]
  },
  {
   "cell_type": "code",
   "execution_count": 67,
   "metadata": {},
   "outputs": [],
   "source": [
    "e = []\n",
    "for i in range(10000) :\n",
    "    if np.random.random_sample() < 0.2 :\n",
    "        e.append(1)"
   ]
  },
  {
   "cell_type": "code",
   "execution_count": 69,
   "metadata": {},
   "outputs": [
    {
     "data": {
      "text/plain": [
       "0.1995"
      ]
     },
     "execution_count": 69,
     "metadata": {},
     "output_type": "execute_result"
    }
   ],
   "source": [
    "len(e) / 10000"
   ]
  },
  {
   "cell_type": "code",
   "execution_count": null,
   "metadata": {},
   "outputs": [],
   "source": []
  }
 ],
 "metadata": {
  "kernelspec": {
   "display_name": "Python 3",
   "language": "python",
   "name": "python3"
  },
  "language_info": {
   "codemirror_mode": {
    "name": "ipython",
    "version": 3
   },
   "file_extension": ".py",
   "mimetype": "text/x-python",
   "name": "python",
   "nbconvert_exporter": "python",
   "pygments_lexer": "ipython3",
   "version": "3.7.4"
  }
 },
 "nbformat": 4,
 "nbformat_minor": 4
}
