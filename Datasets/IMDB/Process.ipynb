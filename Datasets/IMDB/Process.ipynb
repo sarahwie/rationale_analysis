{
 "cells": [
  {
   "cell_type": "code",
   "execution_count": 1,
   "metadata": {},
   "outputs": [
    {
     "name": "stdout",
     "output_type": "stream",
     "text": [
      "--2019-10-05 19:47:42--  https://s3.amazonaws.com/text-datasets/imdb_full.pkl\n",
      "Resolving s3.amazonaws.com (s3.amazonaws.com)... 52.217.32.246\n",
      "Connecting to s3.amazonaws.com (s3.amazonaws.com)|52.217.32.246|:443... connected.\n",
      "HTTP request sent, awaiting response... 200 OK\n",
      "Length: 65552540 (63M) [application/octet-stream]\n",
      "Saving to: ‘imdb_full.pkl’\n",
      "\n",
      "imdb_full.pkl       100%[===================>]  62.52M  83.4MB/s    in 0.7s    \n",
      "\n",
      "2019-10-05 19:47:43 (83.4 MB/s) - ‘imdb_full.pkl’ saved [65552540/65552540]\n",
      "\n",
      "--2019-10-05 19:47:43--  https://s3.amazonaws.com/text-datasets/imdb_word_index.json\n",
      "Resolving s3.amazonaws.com (s3.amazonaws.com)... 52.217.32.246\n",
      "Connecting to s3.amazonaws.com (s3.amazonaws.com)|52.217.32.246|:443... connected.\n",
      "HTTP request sent, awaiting response... 200 OK\n",
      "Length: 1641221 (1.6M) [application/octet-stream]\n",
      "Saving to: ‘imdb_word_index.json’\n",
      "\n",
      "imdb_word_index.jso 100%[===================>]   1.56M  --.-KB/s    in 0.08s   \n",
      "\n",
      "2019-10-05 19:47:43 (20.3 MB/s) - ‘imdb_word_index.json’ saved [1641221/1641221]\n",
      "\n"
     ]
    }
   ],
   "source": [
    "!rm imdb_full.pkl\n",
    "!rm imdb_word_index.json\n",
    "!wget https://s3.amazonaws.com/text-datasets/imdb_full.pkl\n",
    "!wget https://s3.amazonaws.com/text-datasets/imdb_word_index.json"
   ]
  },
  {
   "cell_type": "code",
   "execution_count": 2,
   "metadata": {},
   "outputs": [],
   "source": [
    "import pandas as pd\n",
    "import numpy as np\n",
    "import matplotlib.pyplot as plt\n",
    "import seaborn as sns\n",
    "\n",
    "from sklearn.model_selection import train_test_split\n",
    "\n",
    "import pickle\n",
    "data = pickle.load(open('imdb_full.pkl', 'rb'))\n",
    "\n",
    "import json\n",
    "vocab = json.load(open('imdb_word_index.json'))"
   ]
  },
  {
   "cell_type": "code",
   "execution_count": 3,
   "metadata": {},
   "outputs": [],
   "source": [
    "inv = {idx:word for word, idx in vocab.items()}\n",
    "\n",
    "(X_train, y_train), (Xt, yt) = data\n",
    "\n",
    "trainidx = [i for i, x in enumerate(X_train) if len(x) < 400]\n",
    "trainidx, devidx = train_test_split(trainidx, train_size=0.8, random_state=1378)\n",
    "X = [X_train[i] for i in trainidx]\n",
    "y = [y_train[i] for i in trainidx]\n",
    "\n",
    "Xd = [X_train[i] for i in devidx]\n",
    "yd = [y_train[i] for i in devidx]\n",
    "\n",
    "testidx = [i for i, x in enumerate(Xt) if len(x) < 400]\n",
    "testidx, remaining_idx =  train_test_split(testidx, train_size=0.2, random_state=1378)\n",
    "\n",
    "Xt = [Xt[i] for i in testidx]\n",
    "yt = [yt[i] for i in testidx]\n",
    "\n",
    "def invert_and_join(X) :\n",
    "    X = [[inv[x] for x in doc] for doc in X]\n",
    "    X = [\" \".join(x) for x in X]\n",
    "    return X\n",
    "\n",
    "X = invert_and_join(X)\n",
    "Xd = invert_and_join(Xd)\n",
    "Xt = invert_and_join(Xt)\n",
    "\n",
    "texts = {'train' : X, 'test' : Xt, 'dev' : Xd}\n",
    "labels = {'train' : y, 'test' : yt, 'dev' : yd}\n",
    "\n",
    "import pandas as pd\n",
    "df_texts = []\n",
    "df_labels = []\n",
    "df_exp_splits = []\n",
    "\n",
    "for key in ['train', 'test', 'dev'] :\n",
    "    df_texts += texts[key]\n",
    "    df_labels += labels[key]\n",
    "    df_exp_splits += [key] * len(texts[key])\n",
    "    \n",
    "data = pd.DataFrame({'text' : df_texts, 'label' : df_labels, 'exp_split' : df_exp_splits})"
   ]
  },
  {
   "cell_type": "code",
   "execution_count": 4,
   "metadata": {},
   "outputs": [],
   "source": [
    "import pandas as pd\n",
    "import json\n",
    "\n",
    "import os\n",
    "os.makedirs('data', exist_ok=True)"
   ]
  },
  {
   "cell_type": "code",
   "execution_count": 5,
   "metadata": {},
   "outputs": [],
   "source": [
    "for key in ['train', 'dev', 'test'] :\n",
    "    data_key = data[data.exp_split == key].to_dict(orient='records')\n",
    "    data_key = [{'document' : x['text'], 'label' : 'positive' if x['label'] == 1 else 'negative'} for x in data_key]\n",
    "    f = open('data/' + key + '.jsonl', 'w')\n",
    "    f.write('\\n'.join([json.dumps(line) for line in data_key]))\n",
    "    f.close()"
   ]
  },
  {
   "cell_type": "code",
   "execution_count": null,
   "metadata": {},
   "outputs": [],
   "source": []
  }
 ],
 "metadata": {
  "kernelspec": {
   "display_name": "Python 3",
   "language": "python",
   "name": "python3"
  },
  "language_info": {
   "codemirror_mode": {
    "name": "ipython",
    "version": 3
   },
   "file_extension": ".py",
   "mimetype": "text/x-python",
   "name": "python",
   "nbconvert_exporter": "python",
   "pygments_lexer": "ipython3",
   "version": "3.7.4"
  }
 },
 "nbformat": 4,
 "nbformat_minor": 4
}
